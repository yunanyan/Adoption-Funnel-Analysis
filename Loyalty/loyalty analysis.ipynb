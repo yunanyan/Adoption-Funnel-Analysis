{
 "cells": [
  {
   "cell_type": "code",
   "execution_count": 1,
   "id": "01e63c87",
   "metadata": {},
   "outputs": [],
   "source": [
    "import pandas as pd\n",
    "import numpy as np\n",
    "import matplotlib.pyplot as plt"
   ]
  },
  {
   "cell_type": "code",
   "execution_count": 2,
   "id": "6deb20c6",
   "metadata": {},
   "outputs": [],
   "source": [
    "funnel  = pd.read_csv(\"C:\\\\Users\\\\YunanYan\\\\Downloads\\\\loyalty_funnel.csv\")"
   ]
  },
  {
   "cell_type": "code",
   "execution_count": 3,
   "id": "8623449e",
   "metadata": {},
   "outputs": [
    {
     "name": "stdout",
     "output_type": "stream",
     "text": [
      "0.7078877400295421\n",
      "2.954761706034555\n",
      "0.05997045790251108\n",
      "0.023515509601181685\n"
     ]
    }
   ],
   "source": [
    "# From bof - 1st use\n",
    "print((funnel.shape[0]-funnel.BOF_1_HIT_TIME.isna().sum())/funnel.shape[0])\n",
    "print(funnel.BOF_1_HIT_TIME.mean())\n",
    "print(funnel.BOF_1_NUMBER_OF_RECEIVED_ENGAGEMENT.mean())\n",
    "print(funnel.BOF_1_NUMBER_OF_OPENNED_ENGAGEMENT.mean())"
   ]
  },
  {
   "cell_type": "code",
   "execution_count": 4,
   "id": "f45ac5b1",
   "metadata": {},
   "outputs": [
    {
     "name": "stdout",
     "output_type": "stream",
     "text": [
      "0.6756868537666174\n",
      "1.505683805526408\n",
      "0.02605612998522895\n",
      "0.011935007385524372\n"
     ]
    }
   ],
   "source": [
    "# From 1st - 2nd use\n",
    "print((funnel.shape[0]-funnel.BOF_2_HIT_TIME.isna().sum())/funnel.shape[0])\n",
    "print(funnel.BOF_2_HIT_TIME.mean())\n",
    "print(funnel.BOF_2_NUMBER_OF_RECEIVED_ENGAGEMENT.mean())\n",
    "print(funnel.BOF_2_NUMBER_OF_OPENNED_ENGAGEMENT.mean())"
   ]
  },
  {
   "cell_type": "code",
   "execution_count": 5,
   "id": "45f88033",
   "metadata": {},
   "outputs": [
    {
     "name": "stdout",
     "output_type": "stream",
     "text": [
      "0.6555391432791728\n",
      "1.1700766110860747\n",
      "0.022806499261447562\n",
      "0.009867060561299852\n"
     ]
    }
   ],
   "source": [
    "# From 2nd - 3rd use\n",
    "print((funnel.shape[0]-funnel.BOF_3_HIT_TIME.isna().sum())/funnel.shape[0])\n",
    "print(funnel.BOF_3_HIT_TIME.mean())\n",
    "print(funnel.BOF_3_NUMBER_OF_RECEIVED_ENGAGEMENT.mean())\n",
    "print(funnel.BOF_3_NUMBER_OF_OPENNED_ENGAGEMENT.mean())"
   ]
  },
  {
   "cell_type": "code",
   "execution_count": 6,
   "id": "94bc4711",
   "metadata": {},
   "outputs": [
    {
     "data": {
      "image/png": "[encoded data removed]",
      "text/plain": [
       "<Figure size 640x480 with 1 Axes>"
      ]
     },
     "metadata": {},
     "output_type": "display_data"
    }
   ],
   "source": [
    "weights = np.ones_like(funnel.BOF_1_NUMBER_OF_RECEIVED_ENGAGEMENT) / len(funnel.BOF_1_NUMBER_OF_RECEIVED_ENGAGEMENT)\n",
    "plt.hist(funnel.BOF_1_NUMBER_OF_RECEIVED_ENGAGEMENT, bins=30, weights=weights)\n",
    "plt.xlabel(\"# of campaign received\")\n",
    "plt.show()"
   ]
  },
  {
   "cell_type": "code",
   "execution_count": 10,
   "id": "34e05454",
   "metadata": {},
   "outputs": [
    {
     "data": {
      "text/plain": [
       "MERCHANT_SEGMENT\n",
       "Micro         10463\n",
       "SMB            3606\n",
       "Mid-Market     1111\n",
       "Inactive        454\n",
       "Name: count, dtype: int64"
      ]
     },
     "execution_count": 10,
     "metadata": {},
     "output_type": "execute_result"
    }
   ],
   "source": [
    "# GPV\n",
    "gpv_seg = pd.read_csv(\"C:\\\\Users\\\\YunanYan\\\\Downloads\\\\loyalty_seg.csv\")\n",
    "gpv_seg.MERCHANT_SEGMENT.value_counts()"
   ]
  },
  {
   "cell_type": "code",
   "execution_count": 12,
   "id": "27229c0a",
   "metadata": {},
   "outputs": [
    {
     "name": "stdout",
     "output_type": "stream",
     "text": [
      "Micro\n",
      "-----------\n",
      "10463\n",
      "0.693395775590175\n",
      "0.6488578801490968\n",
      "0.6209500143362324\n",
      "SMB\n",
      "-----------\n",
      "3606\n",
      "0.9584026622296173\n",
      "0.9511924570160843\n",
      "0.9431503050471437\n",
      "nan\n",
      "-----------\n",
      "0\n",
      "nan\n",
      "nan\n",
      "nan\n",
      "Inactive\n",
      "-----------\n",
      "454\n",
      "0.1299559471365639\n",
      "0.1013215859030837\n",
      "0.09030837004405286\n",
      "Mid-Market\n",
      "-----------\n",
      "1111\n",
      "0.9621962196219622\n",
      "0.9567956795679567\n",
      "0.9540954095409541\n"
     ]
    },
    {
     "name": "stderr",
     "output_type": "stream",
     "text": [
      "C:\\Users\\YunanYan\\AppData\\Local\\Temp\\ipykernel_11972\\3426519861.py:8: RuntimeWarning: invalid value encountered in scalar divide\n",
      "  print((data_seg.shape[0]-data_seg.BOF_1_HIT_TIME.isna().sum())/data_seg.shape[0])\n",
      "C:\\Users\\YunanYan\\AppData\\Local\\Temp\\ipykernel_11972\\3426519861.py:9: RuntimeWarning: invalid value encountered in scalar divide\n",
      "  print((data_seg.shape[0]-data_seg.BOF_2_HIT_TIME.isna().sum())/data_seg.shape[0])\n",
      "C:\\Users\\YunanYan\\AppData\\Local\\Temp\\ipykernel_11972\\3426519861.py:10: RuntimeWarning: invalid value encountered in scalar divide\n",
      "  print((data_seg.shape[0]-data_seg.BOF_3_HIT_TIME.isna().sum())/data_seg.shape[0])\n"
     ]
    }
   ],
   "source": [
    "funnel_gpv_seg = funnel.merge(gpv_seg, how=\"inner\",on=\"MERCHANT_TOKEN\")\n",
    "seg_list = funnel_gpv_seg.MERCHANT_SEGMENT.unique().tolist()\n",
    "for seg in seg_list:\n",
    "    data_seg = funnel_gpv_seg[(funnel_gpv_seg.MERCHANT_SEGMENT==seg)]\n",
    "    print(seg)\n",
    "    print(\"-----------\")\n",
    "    print(data_seg.shape[0])\n",
    "    print((data_seg.shape[0]-data_seg.BOF_1_HIT_TIME.isna().sum())/data_seg.shape[0])\n",
    "    print((data_seg.shape[0]-data_seg.BOF_2_HIT_TIME.isna().sum())/data_seg.shape[0])\n",
    "    print((data_seg.shape[0]-data_seg.BOF_3_HIT_TIME.isna().sum())/data_seg.shape[0])\n",
    "  "
   ]
  },
  {
   "cell_type": "code",
   "execution_count": 13,
   "id": "5c02762f",
   "metadata": {},
   "outputs": [
    {
     "data": {
      "text/plain": [
       "MCC\n",
       "UNKNOWN                               11472\n",
       "food_and_drink                         2077\n",
       "retail                                 1422\n",
       "beauty_and_personal_care                628\n",
       "health_care_and_fitness                 346\n",
       "professional_services                   345\n",
       "casual_use                              182\n",
       "home_and_repair                         166\n",
       "leisure_and_entertainment               143\n",
       "charities_education_and_membership      111\n",
       "transportation                           33\n",
       "Name: count, dtype: int64"
      ]
     },
     "execution_count": 13,
     "metadata": {},
     "output_type": "execute_result"
    }
   ],
   "source": [
    "# MCC\n",
    "mcc_seg = pd.read_csv(\"C:\\\\Users\\\\YunanYan\\\\Downloads\\\\loyalty_mcc_seg.csv\")\n",
    "mcc_seg.MCC.value_counts()"
   ]
  },
  {
   "cell_type": "code",
   "execution_count": 14,
   "id": "388d97e2",
   "metadata": {},
   "outputs": [
    {
     "name": "stdout",
     "output_type": "stream",
     "text": [
      "UNKNOWN\n",
      "-----------\n",
      "0.7377092050209205\n",
      "0.7053695955369595\n",
      "0.6843619246861925\n",
      "retail\n",
      "-----------\n",
      "0.6258790436005626\n",
      "0.5921237693389592\n",
      "0.5745428973277075\n",
      "professional_services\n",
      "-----------\n",
      "0.22608695652173913\n",
      "0.19420289855072465\n",
      "0.1681159420289855\n",
      "food_and_drink\n",
      "-----------\n",
      "0.8420799229658161\n",
      "0.8218584496870486\n",
      "0.8103033220991815\n",
      "beauty_and_personal_care\n",
      "-----------\n",
      "0.6496815286624203\n",
      "0.5923566878980892\n",
      "0.552547770700637\n",
      "casual_use\n",
      "-----------\n",
      "0.25824175824175827\n",
      "0.23076923076923078\n",
      "0.2032967032967033\n",
      "health_care_and_fitness\n",
      "-----------\n",
      "0.5289017341040463\n",
      "0.47398843930635837\n",
      "0.4595375722543353\n",
      "home_and_repair\n",
      "-----------\n",
      "0.16265060240963855\n",
      "0.14457831325301204\n",
      "0.13253012048192772\n",
      "leisure_and_entertainment\n",
      "-----------\n",
      "0.4965034965034965\n",
      "0.46853146853146854\n",
      "0.45454545454545453\n",
      "transportation\n",
      "-----------\n",
      "0.18181818181818182\n",
      "0.18181818181818182\n",
      "0.15151515151515152\n",
      "charities_education_and_membership\n",
      "-----------\n",
      "0.5315315315315315\n",
      "0.4774774774774775\n",
      "0.4594594594594595\n"
     ]
    }
   ],
   "source": [
    "# MCC segmentation analysis on time to convert \n",
    "funnel_mcc_seg = funnel.merge(mcc_seg, how=\"inner\",on=\"MERCHANT_TOKEN\")\n",
    "seg_list = funnel_mcc_seg.MCC.unique().tolist()\n",
    "for seg in seg_list:\n",
    "    data_seg = funnel_mcc_seg[(funnel_mcc_seg.MCC==seg)]\n",
    "    print(seg)\n",
    "    print(\"-----------\")\n",
    "    print((data_seg.shape[0]-data_seg.BOF_1_HIT_TIME.isna().sum())/data_seg.shape[0])\n",
    "    print((data_seg.shape[0]-data_seg.BOF_2_HIT_TIME.isna().sum())/data_seg.shape[0])\n",
    "    print((data_seg.shape[0]-data_seg.BOF_3_HIT_TIME.isna().sum())/data_seg.shape[0])\n"
   ]
  },
  {
   "cell_type": "code",
   "execution_count": null,
   "id": "2ff2408f",
   "metadata": {},
   "outputs": [],
   "source": []
  }
 ],
 "metadata": {
  "kernelspec": {
   "display_name": "Python 3 (ipykernel)",
   "language": "python",
   "name": "python3"
  },
  "language_info": {
   "codemirror_mode": {
    "name": "ipython",
    "version": 3
   },
   "file_extension": ".py",
   "mimetype": "text/x-python",
   "name": "python",
   "nbconvert_exporter": "python",
   "pygments_lexer": "ipython3",
   "version": "3.11.4"
  }
 },
 "nbformat": 4,
 "nbformat_minor": 5
}
